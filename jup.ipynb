{
 "cells": [
  {
   "cell_type": "code",
   "execution_count": 3,
   "metadata": {},
   "outputs": [],
   "source": [
    "import numpy as np\n",
    "\n",
    "from qpy import *\n",
    "\n",
    "# from qpy.linalg import *\n",
    "# from qpy.gates import *\n",
    "# from qpy.measurement import *\n"
   ]
  },
  {
   "cell_type": "code",
   "execution_count": 4,
   "metadata": {},
   "outputs": [
    {
     "name": "stdout",
     "output_type": "stream",
     "text": [
      "Sample: [0.70710678 0.         0.         0.         0.         0.\n",
      " 0.         0.70710678]\n",
      "Measured: [0. 0. 0. 0. 0. 0. 0. 1.]\n"
     ]
    }
   ],
   "source": [
    "sample = generate_ghz_state(3)\n",
    "measured, output = measure(sample, 2)\n",
    "\n",
    "print(\"Sample:\", sample)\n",
    "print(\"Measured:\", measured)"
   ]
  },
  {
   "cell_type": "code",
   "execution_count": 5,
   "metadata": {},
   "outputs": [],
   "source": [
    "#toffoli gate \n",
    "def TOFFOLI(control1, control2, target, num_qubits):\n",
    "    \n",
    "    if control1 == target or control2 == target:\n",
    "        raise ValueError(\"Control and Target qubits must be different.\")\n",
    "    \n",
    "    if not (0<= control1 <= num_qubits) or not (0<= target <= num_qubits) or not (0<= control2 <= num_qubits):\n",
    "        raise ValueError(\"Control and target qubits must be within range\")\n",
    "        \n",
    "    # Ensure control_qubits are ordered in ascending order of indices\n",
    "    c1, c2 = sorted([control1, control2])\n",
    "\n",
    "    # Apply the controlled NOT gate with padding\n",
    "    if c2 < target:   # If both controls are before the target\n",
    "        operator = apply_kron([*[I]*(c1), np.outer(zero,zero), *[I]*(num_qubits - c1 - 1)]) \n",
    "        + apply_kron([*[I]*(c2), np.outer(zero,zero), *[I]*(num_qubits - c2 - 1)]) \n",
    "        #+ apply_kron([*[I]*(c1), np.outer(zero,zero), *[I]*(c2 - c1 - 1), np.outer(one,one), *[I]*(num_qubits - c2 - 1)]) or apply_kron([*[I]*(c1), np.outer(one,one), *[I]*(c2 - c1 - 1), np.outer(zero,zero), *[I]*(num_qubits - c2 - 1)])\n",
    "        + apply_kron([*[I]*(c1), np.outer(one,one), *[I]*(c2 - c1 - 1), np.outer(one,one), *[I]*(target - c1 - 1), X, *[I]*(num_qubits - target - 1)])\n",
    "    \n",
    "    \n",
    "    elif c1 < target < c2: # If target qubit is in the middle of both controls\n",
    "        operator = apply_kron([*[I]*(c1), np.outer(zero,zero), *[I]*(num_qubits - c1 - 1)]) \n",
    "        + apply_kron([*[I]*(c2), np.outer(zero,zero), *[I]*(num_qubits - c2 - 1)]) \n",
    "        #+ apply_kron([*[I]*(c1), np.outer(zero,zero), *[I]*(c2 - c1 - 1), np.outer(one,one), *[I]*(num_qubits - c2 - 1)]) or apply_kron([*[I]*(c1), np.outer(one,one), *[I]*(c2 - c1 - 1), np.outer(zero,zero), *[I]*(num_qubits - c2 - 1)])\n",
    "        + apply_kron([*[I]*(c1), np.outer(one,one), *[I]*(target - c1 - 1), X, *[I]*(c2 - target - 1), np.outer(one,one), *[I]*(num_qubits - c2 - 1)])\n",
    "        \n",
    "    elif target < c1: # if target is before both controls\n",
    "        operator = apply_kron([*[I]*(c1), np.outer(zero,zero), *[I]*(num_qubits - c1 - 1)]) \n",
    "        + apply_kron([*[I]*(c2), np.outer(zero,zero), *[I]*(num_qubits - c2 - 1)]) \n",
    "        #+ apply_kron([*[I]*(c1), np.outer(zero,zero), *[I]*(c2 - c1 - 1), np.outer(one,one), *[I]*(num_qubits - c2 - 1)]) or apply_kron([*[I]*(c1), np.outer(one,one), *[I]*(c2 - c1 - 1), np.outer(zero,zero), *[I]*(num_qubits - c2 - 1)])\n",
    "        + apply_kron([*[I]*(target), X, *[I]*(c1 - target - 1), np.outer(one,one), *[I]*(c2 - c1 - 1), np.outer(one,one), *[I]*(num_qubits - c2 - 1)])\n",
    "        \n",
    "    return operator\n"
   ]
  },
  {
   "cell_type": "code",
   "execution_count": 11,
   "metadata": {},
   "outputs": [
    {
     "name": "stdout",
     "output_type": "stream",
     "text": [
      "[[1. 0. 0. 0. 0. 0. 0. 0.]\n",
      " [0. 1. 0. 0. 0. 0. 0. 0.]\n",
      " [0. 0. 1. 0. 0. 0. 0. 0.]\n",
      " [0. 0. 0. 1. 0. 0. 0. 0.]\n",
      " [0. 0. 0. 0. 0. 0. 0. 0.]\n",
      " [0. 0. 0. 0. 0. 0. 0. 0.]\n",
      " [0. 0. 0. 0. 0. 0. 0. 0.]\n",
      " [0. 0. 0. 0. 0. 0. 0. 0.]]\n"
     ]
    }
   ],
   "source": [
    "tof = TOFFOLI(0,1,2,3)\n",
    "print(tof)"
   ]
  },
  {
   "cell_type": "code",
   "execution_count": 19,
   "metadata": {},
   "outputs": [
    {
     "name": "stdout",
     "output_type": "stream",
     "text": [
      "> \u001b[1;32mc:\\users\\raisa\\appdata\\local\\temp\\ipykernel_38920\\3628880613.py\u001b[0m(17)\u001b[0;36mTOFFOLI\u001b[1;34m()\u001b[0m\n",
      "\n",
      "1\n",
      "2\n",
      "2\n",
      "3\n",
      "3\n",
      "*** IndentationError: expected an indented block after 'if' statement on line 1\n",
      "--KeyboardInterrupt--\n",
      "\n",
      "KeyboardInterrupt: Interrupted by user\n"
     ]
    }
   ],
   "source": [
    "%debug"
   ]
  },
  {
   "cell_type": "code",
   "execution_count": null,
   "metadata": {},
   "outputs": [
    {
     "name": "stdout",
     "output_type": "stream",
     "text": [
      "[0.70710678 0.         0.         0.70710678]\n"
     ]
    }
   ],
   "source": [
    "def bell_pair():\n",
    "    bell_state = np.kron(zero,zero)\n",
    "    bell_state = np.dot(np.kron(H, I), bell_state)\n",
    "    bell_state = np.dot(cnot, bell_state)\n",
    "    \n",
    "    return bell_state\n",
    "\n",
    "print(bell_pair())\n",
    "\n",
    "def teleport_quantum_state(original_state):\n",
    "    \"\"\"Teleports a quantum state using an entangled Bell state.\"\"\"\n",
    "    #num_qubits = len(original_state)\n",
    "    bell_state = bell_pair()\n",
    "\n",
    "    state = np.kron(original_state, bell_state)\n",
    "    \n",
    "    # Apply CNOT controlled by original state\n",
    "    state = cnot_nonadj(0, 1, 3)@state\n",
    "    # print(state)\n",
    "\n",
    "    # Apply Hadamard to controlled qubit\n",
    "    state = add_gate(H, 0, 3)@state\n",
    "    # print(state)\n",
    "\n",
    "    # Measure both control qubits\n",
    "    state, outcome1 = measure(state, 0)\n",
    "    # print(state)\n",
    "    \n",
    "    state, outcome2 = measure(state, 2)\n",
    "    # print(state)\n",
    "\n",
    "    # Apply classical communication and corrections\n",
    "    classical_bits = str(outcome2) + str(outcome1)\n",
    "    correction_map = {\n",
    "        \"00\": np.eye(2),\n",
    "        \"01\": X,\n",
    "        \"10\": Z,\n",
    "        \"11\": Y\n",
    "    }\n",
    "\n",
    "    correction = add_gate(correction_map[classical_bits], 2, 3)\n",
    "    state = np.dot(correction, state)\n",
    "    # print(state)\n",
    "\n",
    "    return state"
   ]
  },
  {
   "cell_type": "code",
   "execution_count": null,
   "metadata": {},
   "outputs": [
    {
     "ename": "AssertionError",
     "evalue": "",
     "output_type": "error",
     "traceback": [
      "\u001b[1;31m---------------------------------------------------------------------------\u001b[0m",
      "\u001b[1;31mAssertionError\u001b[0m                            Traceback (most recent call last)",
      "Cell \u001b[1;32mIn[5], line 1\u001b[0m\n\u001b[1;32m----> 1\u001b[0m stt \u001b[38;5;241m=\u001b[39m teleport_quantum_state([\u001b[38;5;241m0\u001b[39m,\u001b[38;5;241m0\u001b[39m])\n\u001b[0;32m      2\u001b[0m \u001b[38;5;28mprint\u001b[39m(stt)\n",
      "Cell \u001b[1;32mIn[4], line 26\u001b[0m, in \u001b[0;36mteleport_quantum_state\u001b[1;34m(original_state)\u001b[0m\n\u001b[0;32m     22\u001b[0m state \u001b[38;5;241m=\u001b[39m add_gate(H, \u001b[38;5;241m0\u001b[39m, \u001b[38;5;241m3\u001b[39m)\u001b[38;5;129m@state\u001b[39m\n\u001b[0;32m     23\u001b[0m \u001b[38;5;66;03m# print(state)\u001b[39;00m\n\u001b[0;32m     24\u001b[0m \n\u001b[0;32m     25\u001b[0m \u001b[38;5;66;03m# Measure both control qubits\u001b[39;00m\n\u001b[1;32m---> 26\u001b[0m state, outcome1 \u001b[38;5;241m=\u001b[39m measure(state, \u001b[38;5;241m0\u001b[39m)\n\u001b[0;32m     27\u001b[0m \u001b[38;5;66;03m# print(state)\u001b[39;00m\n\u001b[0;32m     29\u001b[0m state, outcome2 \u001b[38;5;241m=\u001b[39m measure(state, \u001b[38;5;241m2\u001b[39m)\n",
      "File \u001b[1;32mc:\\Users\\raisa\\OneDrive\\Documents\\qpy\\qpy\\measurement.py:22\u001b[0m, in \u001b[0;36mmeasure\u001b[1;34m(state, qubit_index)\u001b[0m\n\u001b[0;32m     17\u001b[0m P1 \u001b[38;5;241m=\u001b[39m dag(state) \u001b[38;5;241m@\u001b[39m dag(M1) \u001b[38;5;241m@\u001b[39m M1 \u001b[38;5;241m@\u001b[39m state\n\u001b[0;32m     19\u001b[0m \u001b[38;5;66;03m# P0 = np.real(np.trace(M0 @ state))\u001b[39;00m\n\u001b[0;32m     20\u001b[0m \u001b[38;5;66;03m# P1 = np.real(np.trace(M1 @ state))\u001b[39;00m\n\u001b[1;32m---> 22\u001b[0m \u001b[38;5;28;01massert\u001b[39;00m np\u001b[38;5;241m.\u001b[39misclose(P0 \u001b[38;5;241m+\u001b[39m P1, \u001b[38;5;241m1\u001b[39m)\n\u001b[0;32m     24\u001b[0m outcome \u001b[38;5;241m=\u001b[39m \u001b[38;5;241m0\u001b[39m \u001b[38;5;28;01mif\u001b[39;00m np\u001b[38;5;241m.\u001b[39mrandom\u001b[38;5;241m.\u001b[39mrand() \u001b[38;5;241m<\u001b[39m P0 \u001b[38;5;28;01melse\u001b[39;00m \u001b[38;5;241m1\u001b[39m\n\u001b[0;32m     25\u001b[0m \u001b[38;5;28;01mif\u001b[39;00m outcome \u001b[38;5;241m==\u001b[39m \u001b[38;5;241m0\u001b[39m:\n\u001b[0;32m     26\u001b[0m     \u001b[38;5;66;03m#collapse state to 0\u001b[39;00m\n",
      "\u001b[1;31mAssertionError\u001b[0m: "
     ]
    }
   ],
   "source": [
    "stt = teleport_quantum_state([0,0])\n",
    "print(stt)"
   ]
  },
  {
   "cell_type": "code",
   "execution_count": null,
   "metadata": {},
   "outputs": [
    {
     "name": "stdout",
     "output_type": "stream",
     "text": [
      "> \u001b[1;32mc:\\users\\raisa\\onedrive\\documents\\qpy\\qpy\\measurement.py\u001b[0m(22)\u001b[0;36mmeasure\u001b[1;34m()\u001b[0m\n",
      "\u001b[1;32m     20 \u001b[1;33m    \u001b[1;31m# P1 = np.real(np.trace(M1 @ state))\u001b[0m\u001b[1;33m\u001b[0m\u001b[1;33m\u001b[0m\u001b[0m\n",
      "\u001b[0m\u001b[1;32m     21 \u001b[1;33m\u001b[1;33m\u001b[0m\u001b[0m\n",
      "\u001b[0m\u001b[1;32m---> 22 \u001b[1;33m    \u001b[1;32massert\u001b[0m \u001b[0mnp\u001b[0m\u001b[1;33m.\u001b[0m\u001b[0misclose\u001b[0m\u001b[1;33m(\u001b[0m\u001b[0mP0\u001b[0m \u001b[1;33m+\u001b[0m \u001b[0mP1\u001b[0m\u001b[1;33m,\u001b[0m \u001b[1;36m1\u001b[0m\u001b[1;33m)\u001b[0m\u001b[1;33m\u001b[0m\u001b[1;33m\u001b[0m\u001b[0m\n",
      "\u001b[0m\u001b[1;32m     23 \u001b[1;33m\u001b[1;33m\u001b[0m\u001b[0m\n",
      "\u001b[0m\u001b[1;32m     24 \u001b[1;33m    \u001b[0moutcome\u001b[0m \u001b[1;33m=\u001b[0m \u001b[1;36m0\u001b[0m \u001b[1;32mif\u001b[0m \u001b[0mnp\u001b[0m\u001b[1;33m.\u001b[0m\u001b[0mrandom\u001b[0m\u001b[1;33m.\u001b[0m\u001b[0mrand\u001b[0m\u001b[1;33m(\u001b[0m\u001b[1;33m)\u001b[0m \u001b[1;33m<\u001b[0m \u001b[0mP0\u001b[0m \u001b[1;32melse\u001b[0m \u001b[1;36m1\u001b[0m\u001b[1;33m\u001b[0m\u001b[1;33m\u001b[0m\u001b[0m\n",
      "\u001b[0m\n"
     ]
    },
    {
     "name": "stdout",
     "output_type": "stream",
     "text": [
      "*** AssertionError\n",
      "0.0\n"
     ]
    }
   ],
   "source": [
    "#%debug"
   ]
  }
 ],
 "metadata": {
  "kernelspec": {
   "display_name": "base",
   "language": "python",
   "name": "python3"
  },
  "language_info": {
   "codemirror_mode": {
    "name": "ipython",
    "version": 3
   },
   "file_extension": ".py",
   "mimetype": "text/x-python",
   "name": "python",
   "nbconvert_exporter": "python",
   "pygments_lexer": "ipython3",
   "version": "3.11.5"
  }
 },
 "nbformat": 4,
 "nbformat_minor": 2
}
