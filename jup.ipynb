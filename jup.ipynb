{
 "cells": [
  {
   "cell_type": "code",
   "execution_count": 1,
   "metadata": {},
   "outputs": [],
   "source": [
    "# from qpy.gates import H\n",
    "\n",
    "import numpy as np\n",
    "\n",
    "from qpy import *\n",
    "\n",
    "# from qpy.linalg import *\n",
    "# from qpy.gates import *\n",
    "# from qpy.measurement import *\n",
    "import main\n"
   ]
  },
  {
   "cell_type": "code",
   "execution_count": 2,
   "metadata": {},
   "outputs": [],
   "source": [
    "#toffoli gate \n",
    "def TOFFOLI(control1, control2, target, num_qubits):\n",
    "    \n",
    "    if control1 == target or control2 == target:\n",
    "        raise ValueError(\"Control and Target qubits must be different.\")\n",
    "    \n",
    "    if not (0<= control1 <= num_qubits) or not (0<= target <= num_qubits) or not (0<= control2 <= num_qubits):\n",
    "        raise ValueError(\"Control and target qubits must be within range\")\n",
    "        \n",
    "    # Determine the order of applying control qubits based on their indices\n",
    "    c1, c2 = sorted([control1, control2])  # Ensure control_qubits are ordered in ascending order\n",
    "\n",
    "    # Apply the controlled NOT gate with padding\n",
    "    if c1 < target:   # If both controls are before the target\n",
    "        operator = apply_kron([*[I]*(c2), np.outer(zero,zero), *[I]*(num_qubits - c2 - 1)]) + apply_kron([*[I]*(c1), np.outer(zero,zero), *[I]*(num_qubits - c1 - 1)]) + apply_kron([*[I]*(c2), np.outer(one,one), *[I]*(c1 - c2 - 1), np.outer(one,one), *[I]*(target - c1 - 1), X, *[I]*(num_qubits - target - 1)])\n",
    "    \n",
    "    elif c2 < target < c1: # If target qubit is in the middle of both control\n",
    "        operator = apply_kron([*[I]*(2), np.outer(zero,zero), *[I]*(num_qubits - c2 - 1)]) + apply_kron([*[I]*(c1), np.outer(zero,zero), *[I]*(num_qubits - c1 - 1)]) + apply_kron([*[I]*(c2), np.outer(one,one), *[I]*(target - c2 - 1), X, *[I]*(c1 - target - 1), np.outer(one,one), *[I]*(num_qubits - c1 - 1)])\n",
    "        \n",
    "    elif target < c2: # if target is before both control\n",
    "        operator = apply_kron([*[I]*(2), np.outer(zero,zero), *[I]*(num_qubits - c2 - 1)]) + apply_kron([*[I]*(c1), np.outer(zero,zero), *[I]*(num_qubits - c1 - 1)]) + apply_kron([*[I]*(target), X, *[I]*(c2 - target - 1), np.outer(one,one), *[I]*(c1 - c2 - 1), np.outer(one,one), *[I]*(num_qubits - c1 - 1)])\n",
    "        \n",
    "    return operator\n"
   ]
  },
  {
   "cell_type": "code",
   "execution_count": 3,
   "metadata": {},
   "outputs": [],
   "source": [
    "#generating a bell pair\n",
    "# def bell_pair(q1, q2):\n",
    "#     bell_state = np.array([1,0,0,0])\n",
    "#     bell_state = np.dot(np.diag([1,1,1,1]))\n",
    "#     bell_state = np.dot(cnot, bell_state)\n",
    "    \n",
    "#     return bell_state\n"
   ]
  },
  {
   "cell_type": "code",
   "execution_count": 4,
   "metadata": {},
   "outputs": [],
   "source": [
    "# bell = bell_pair(1,2)\n",
    "# print(bell)"
   ]
  },
  {
   "cell_type": "code",
   "execution_count": 16,
   "metadata": {},
   "outputs": [
    {
     "name": "stdout",
     "output_type": "stream",
     "text": [
      "[0.70710678 0.         0.         0.70710678]\n"
     ]
    }
   ],
   "source": [
    "def bell_pair():\n",
    "    bell_state = np.kron(zero,zero)\n",
    "    bell_state = np.dot(np.kron(H, I), bell_state)\n",
    "    bell_state = np.dot(cnot, bell_state)\n",
    "    \n",
    "    return bell_state\n",
    "\n",
    "print(bell_pair())\n",
    "\n",
    "def teleport_quantum_state(original_state):\n",
    "    \"\"\"Teleports a quantum state using an entangled Bell state.\"\"\"\n",
    "    num_qubits = len(original_state)\n",
    "    bell_state = bell_pair()\n",
    "\n",
    "    state = np.kron(original_state, bell_state)\n",
    "    \n",
    "    # Apply CNOT controlled by original state\n",
    "    state = cnot_nonadj(0, 1, 3)@state\n",
    "    # print(state)\n",
    "\n",
    "    # Apply Hadamard to controlled qubit\n",
    "    state = apply_gate(H, 0, 3)@state\n",
    "    # print(state)\n",
    "\n",
    "    # Measure both control qubits\n",
    "    state, outcome1 = measure(state, 0)\n",
    "    # print(state)\n",
    "    \n",
    "    state, outcome2 = measure(state, 2)\n",
    "    # print(state)\n",
    "\n",
    "    # Apply classical communication and corrections\n",
    "    classical_bits = str(outcome2) + str(outcome1)\n",
    "    correction_map = {\n",
    "        \"00\": np.eye(2),\n",
    "        \"01\": X,\n",
    "        \"10\": Z,\n",
    "        \"11\": Y\n",
    "    }\n",
    "\n",
    "    correction = apply_gate(correction_map[classical_bits], 2, 3)\n",
    "    state = np.dot(correction, state)\n",
    "    # print(state)\n",
    "\n",
    "    return state"
   ]
  },
  {
   "cell_type": "code",
   "execution_count": null,
   "metadata": {},
   "outputs": [],
   "source": []
  },
  {
   "cell_type": "code",
   "execution_count": 22,
   "metadata": {},
   "outputs": [
    {
     "name": "stdout",
     "output_type": "stream",
     "text": [
      "[0. 0. 0. 0. 0. 1. 0. 0.]\n"
     ]
    }
   ],
   "source": [
    "stt = teleport_quantum_state([1,0])\n",
    "print(stt)"
   ]
  },
  {
   "cell_type": "code",
   "execution_count": null,
   "metadata": {},
   "outputs": [
    {
     "name": "stdout",
     "output_type": "stream",
     "text": [
      "> \u001b[1;32mc:\\users\\raisa\\onedrive\\documents\\qpy\\qpy\\measurement.py\u001b[0m(22)\u001b[0;36mmeasure\u001b[1;34m()\u001b[0m\n",
      "\u001b[1;32m     20 \u001b[1;33m    \u001b[1;31m# P1 = np.real(np.trace(M1 @ state))\u001b[0m\u001b[1;33m\u001b[0m\u001b[1;33m\u001b[0m\u001b[0m\n",
      "\u001b[0m\u001b[1;32m     21 \u001b[1;33m\u001b[1;33m\u001b[0m\u001b[0m\n",
      "\u001b[0m\u001b[1;32m---> 22 \u001b[1;33m    \u001b[1;32massert\u001b[0m \u001b[0mnp\u001b[0m\u001b[1;33m.\u001b[0m\u001b[0misclose\u001b[0m\u001b[1;33m(\u001b[0m\u001b[0mP0\u001b[0m \u001b[1;33m+\u001b[0m \u001b[0mP1\u001b[0m\u001b[1;33m,\u001b[0m \u001b[1;36m1\u001b[0m\u001b[1;33m)\u001b[0m\u001b[1;33m\u001b[0m\u001b[1;33m\u001b[0m\u001b[0m\n",
      "\u001b[0m\u001b[1;32m     23 \u001b[1;33m\u001b[1;33m\u001b[0m\u001b[0m\n",
      "\u001b[0m\u001b[1;32m     24 \u001b[1;33m    \u001b[1;32mif\u001b[0m \u001b[0mnp\u001b[0m\u001b[1;33m.\u001b[0m\u001b[0mrandom\u001b[0m\u001b[1;33m.\u001b[0m\u001b[0mrand\u001b[0m\u001b[1;33m(\u001b[0m\u001b[1;33m)\u001b[0m\u001b[1;33m<\u001b[0m\u001b[0mP0\u001b[0m\u001b[1;33m:\u001b[0m\u001b[1;33m\u001b[0m\u001b[1;33m\u001b[0m\u001b[0m\n",
      "\u001b[0m\n",
      "array([[ 1.00000000e+00,  0.00000000e+00, -2.23711432e-17,\n",
      "         0.00000000e+00],\n",
      "       [ 0.00000000e+00,  0.00000000e+00,  0.00000000e+00,\n",
      "         0.00000000e+00],\n",
      "       [-2.23711432e-17,  0.00000000e+00,  1.00000000e+00,\n",
      "         0.00000000e+00],\n",
      "       [ 0.00000000e+00,  0.00000000e+00,  0.00000000e+00,\n",
      "         0.00000000e+00]])\n",
      "*** NameError: name 'p1' is not defined\n",
      "array([[ 0.00000000e+00,  0.00000000e+00,  0.00000000e+00,\n",
      "         0.00000000e+00],\n",
      "       [ 0.00000000e+00,  1.00000000e+00,  0.00000000e+00,\n",
      "        -2.23711432e-17],\n",
      "       [ 0.00000000e+00,  0.00000000e+00,  0.00000000e+00,\n",
      "         0.00000000e+00],\n",
      "       [ 0.00000000e+00, -2.23711432e-17,  0.00000000e+00,\n",
      "         1.00000000e+00]])\n",
      "array([[ 0.70710678,  0.        ,  0.70710678,  0.        ],\n",
      "       [ 0.        ,  0.70710678,  0.        ,  0.70710678],\n",
      "       [ 0.70710678,  0.        , -0.70710678, -0.        ],\n",
      "       [ 0.        ,  0.70710678, -0.        , -0.70710678]])\n"
     ]
    }
   ],
   "source": [
    "%debug"
   ]
  }
 ],
 "metadata": {
  "kernelspec": {
   "display_name": "base",
   "language": "python",
   "name": "python3"
  },
  "language_info": {
   "codemirror_mode": {
    "name": "ipython",
    "version": 3
   },
   "file_extension": ".py",
   "mimetype": "text/x-python",
   "name": "python",
   "nbconvert_exporter": "python",
   "pygments_lexer": "ipython3",
   "version": "3.11.5"
  }
 },
 "nbformat": 4,
 "nbformat_minor": 2
}
